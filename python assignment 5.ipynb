{
 "cells": [
  {
   "cell_type": "code",
   "execution_count": 19,
   "metadata": {},
   "outputs": [
    {
     "name": "stdout",
     "output_type": "stream",
     "text": [
      "5\n",
      "10\n",
      "15\n",
      "20\n",
      "25\n",
      "30\n",
      "35\n",
      "40\n",
      "45\n",
      "50\n"
     ]
    }
   ],
   "source": [
    "n=int(input())\n",
    "for i in range(1,11):\n",
    "    print(i*n)"
   ]
  },
  {
   "cell_type": "code",
   "execution_count": 21,
   "metadata": {},
   "outputs": [
    {
     "name": "stdout",
     "output_type": "stream",
     "text": [
      "factorial of 5 is 120\n"
     ]
    }
   ],
   "source": [
    "n=int(input())\n",
    "fact=1\n",
    "for i in range(1,n+1):\n",
    "    fact=fact*i\n",
    "print('factorial of',n,'is',fact)"
   ]
  },
  {
   "cell_type": "code",
   "execution_count": 9,
   "metadata": {},
   "outputs": [
    {
     "name": "stdout",
     "output_type": "stream",
     "text": [
      "binary for 14 is\n",
      "1110"
     ]
    }
   ],
   "source": [
    "n=int(input())\n",
    "print('binary for',n,'is')\n",
    "a=[]\n",
    "while n>0:\n",
    "    if n%2==0:\n",
    "        b=0\n",
    "        a.append(b)\n",
    "    else:\n",
    "        c=1\n",
    "        a.append(c)\n",
    "    n=n//2\n",
    "binary=a[::-1]\n",
    "for i in binary:\n",
    "    print(i,end=\"\")\n",
    "\n"
   ]
  },
  {
   "cell_type": "code",
   "execution_count": 42,
   "metadata": {},
   "outputs": [
    {
     "name": "stdout",
     "output_type": "stream",
     "text": [
      "123321 number is palindrome\n"
     ]
    }
   ],
   "source": [
    "n1=input()\n",
    "a=[]\n",
    "k=0\n",
    "for i in n1:\n",
    "    a.append(i)\n",
    "b=a[::-1]\n",
    "for i in range(0,len(n1)):\n",
    "    if b[i]==a[i]:\n",
    "        k+=1\n",
    "if k==len(n1):\n",
    "    print(n1,'number is palindrome')\n",
    "else:\n",
    "    print('number is not palindrome')\n"
   ]
  },
  {
   "cell_type": "code",
   "execution_count": 47,
   "metadata": {},
   "outputs": [
    {
     "name": "stdout",
     "output_type": "stream",
     "text": [
      "1505 is divisible by 5 and 7 in between 1500 and 2700\n",
      "1540 is divisible by 5 and 7 in between 1500 and 2700\n",
      "1575 is divisible by 5 and 7 in between 1500 and 2700\n",
      "1610 is divisible by 5 and 7 in between 1500 and 2700\n",
      "1645 is divisible by 5 and 7 in between 1500 and 2700\n",
      "1680 is divisible by 5 and 7 in between 1500 and 2700\n",
      "1715 is divisible by 5 and 7 in between 1500 and 2700\n",
      "1750 is divisible by 5 and 7 in between 1500 and 2700\n",
      "1785 is divisible by 5 and 7 in between 1500 and 2700\n",
      "1820 is divisible by 5 and 7 in between 1500 and 2700\n",
      "1855 is divisible by 5 and 7 in between 1500 and 2700\n",
      "1890 is divisible by 5 and 7 in between 1500 and 2700\n",
      "1925 is divisible by 5 and 7 in between 1500 and 2700\n",
      "1960 is divisible by 5 and 7 in between 1500 and 2700\n",
      "1995 is divisible by 5 and 7 in between 1500 and 2700\n",
      "2030 is divisible by 5 and 7 in between 1500 and 2700\n",
      "2065 is divisible by 5 and 7 in between 1500 and 2700\n",
      "2100 is divisible by 5 and 7 in between 1500 and 2700\n",
      "2135 is divisible by 5 and 7 in between 1500 and 2700\n",
      "2170 is divisible by 5 and 7 in between 1500 and 2700\n",
      "2205 is divisible by 5 and 7 in between 1500 and 2700\n",
      "2240 is divisible by 5 and 7 in between 1500 and 2700\n",
      "2275 is divisible by 5 and 7 in between 1500 and 2700\n",
      "2310 is divisible by 5 and 7 in between 1500 and 2700\n",
      "2345 is divisible by 5 and 7 in between 1500 and 2700\n",
      "2380 is divisible by 5 and 7 in between 1500 and 2700\n",
      "2415 is divisible by 5 and 7 in between 1500 and 2700\n",
      "2450 is divisible by 5 and 7 in between 1500 and 2700\n",
      "2485 is divisible by 5 and 7 in between 1500 and 2700\n",
      "2520 is divisible by 5 and 7 in between 1500 and 2700\n",
      "2555 is divisible by 5 and 7 in between 1500 and 2700\n",
      "2590 is divisible by 5 and 7 in between 1500 and 2700\n",
      "2625 is divisible by 5 and 7 in between 1500 and 2700\n",
      "2660 is divisible by 5 and 7 in between 1500 and 2700\n",
      "2695 is divisible by 5 and 7 in between 1500 and 2700\n"
     ]
    }
   ],
   "source": [
    "a=int(input(\"start fron\"))\n",
    "b=int(input(\"end at\"))\n",
    "div1=int(input(\"enter number 1 to check divisibility by it\"))\n",
    "div2=int(input(\"enter number 2 to check divisibility by it\"))\n",
    "for i in range(a,b+1):\n",
    "    if i%div1==0 and i%div2==0:\n",
    "        print(i,'is divisible by',div1,'and',div2,'in between',a,'and',b)\n",
    "    else:\n",
    "        continue\n"
   ]
  },
  {
   "cell_type": "code",
   "execution_count": 8,
   "metadata": {},
   "outputs": [
    {
     "name": "stdout",
     "output_type": "stream",
     "text": [
      "number 153 is armstrong number\n"
     ]
    }
   ],
   "source": [
    "n=int(input())\n",
    "sum=0\n",
    "for i in str(n):\n",
    "    sum+=(int(i)**len(str(n)))\n",
    "if sum==n:\n",
    "    print('number',n,'is armstrong number')\n",
    "else:\n",
    "    print('number',n,'is not armstrong number')"
   ]
  },
  {
   "cell_type": "code",
   "execution_count": 13,
   "metadata": {},
   "outputs": [
    {
     "name": "stdout",
     "output_type": "stream",
     "text": [
      "* \n",
      "* * \n",
      "* * * \n",
      "* * * * \n",
      "* * * * * \n"
     ]
    }
   ],
   "source": [
    "n=5\n",
    "for i in range(1,6):\n",
    "    for j in range(1,i+1):\n",
    "        print('*',end=\" \")\n",
    "    print()"
   ]
  },
  {
   "cell_type": "code",
   "execution_count": 14,
   "metadata": {},
   "outputs": [
    {
     "name": "stdout",
     "output_type": "stream",
     "text": [
      "1 \n",
      "1 2 \n",
      "1 2 3 \n",
      "1 2 3 4 \n",
      "1 2 3 4 5 \n"
     ]
    }
   ],
   "source": [
    "n=5\n",
    "for i in range(1,6):\n",
    "    for j in range(1,i+1):\n",
    "        print(j,end=\" \")\n",
    "    print()"
   ]
  },
  {
   "cell_type": "code",
   "execution_count": 27,
   "metadata": {},
   "outputs": [
    {
     "name": "stdout",
     "output_type": "stream",
     "text": [
      "[1, 2, 3, 4, 5]\n",
      "9 =sum\n"
     ]
    }
   ],
   "source": [
    "#Q8\n",
    "a=[]\n",
    "sum=0\n",
    "num=int(input(\"greater than\"))\n",
    "n=int(input(\"number of elements\"))\n",
    "for i in range(n):\n",
    "    b=int(input())\n",
    "    a.append(b)\n",
    "for i in range(n):\n",
    "    if a[i]>num:\n",
    "        sum+=a[i]\n",
    "print(a)\n",
    "print(sum,'=sum')\n"
   ]
  },
  {
   "cell_type": "code",
   "execution_count": null,
   "metadata": {},
   "outputs": [],
   "source": []
  }
 ],
 "metadata": {
  "kernelspec": {
   "display_name": "Python 3",
   "language": "python",
   "name": "python3"
  },
  "language_info": {
   "codemirror_mode": {
    "name": "ipython",
    "version": 3
   },
   "file_extension": ".py",
   "mimetype": "text/x-python",
   "name": "python",
   "nbconvert_exporter": "python",
   "pygments_lexer": "ipython3",
   "version": "3.11.9"
  }
 },
 "nbformat": 4,
 "nbformat_minor": 2
}
