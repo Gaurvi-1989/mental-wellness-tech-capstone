{
 "cells": [
  {
   "cell_type": "code",
   "execution_count": null,
   "metadata": {},
   "outputs": [
    {
     "name": "stdout",
     "output_type": "stream",
     "text": [
      "[2, 3, 4, 5, 6, 7, 8, 9, 10, 12, 14, 15, 16, 18, 20, 21, 22, 24, 25, 26, 27, 28, 30, 32, 33, 34, 35, 36, 38, 39, 40, 42, 44, 45, 46, 48, 49, 50, 51, 52, 54, 55, 56, 57, 58, 60, 62, 63, 64, 65, 66, 68, 69, 70, 72, 74, 75, 76, 77, 78, 80, 81, 82, 84, 85, 86, 87, 88, 90, 91, 92, 93, 94, 95, 96, 98, 99, 100]\n"
     ]
    }
   ],
   "source": [
    "div_num=[num for num in range(1,101)if any(num%d==0 for d in range(2,10))]\n",
    "print (div_num)"
   ]
  },
  {
   "cell_type": "code",
   "execution_count": 8,
   "metadata": {},
   "outputs": [
    {
     "name": "stdout",
     "output_type": "stream",
     "text": [
      "[(0, 'hi'), (1, 4), (2, 8.99), (3, 'apple'), (4, ('t,b', 'n'))]\n"
     ]
    }
   ],
   "source": [
    "l=[\"hi\", 4, 8.99, 'apple', ('t,b','n')]\n",
    "ans=[(i,l[i]) for i in range(len(l))]\n",
    "print(ans)"
   ]
  },
  {
   "cell_type": "code",
   "execution_count": 1,
   "metadata": {},
   "outputs": [
    {
     "name": "stdout",
     "output_type": "stream",
     "text": [
      "[{'color_name': 'Black', 'color_code': '#000000'}, {'color_name': 'Red', 'color_code': '#FF0000'}, {'color_name': 'Maroon', 'color_code': '#800000'}, {'color_name': 'Yellow', 'color_code': '#FFFF00'}]\n"
     ]
    }
   ],
   "source": [
    "col=[\"Black\", \"Red\", \"Maroon\", \"Yellow\"]\n",
    "cod=[\"#000000\", \"#FF0000\", \"#800000\", \"#FFFF00\"]\n",
    "a=[{'color_name': col[i] , 'color_code': cod[i]} for i in range(len(col))]\n",
    "print(a)"
   ]
  },
  {
   "cell_type": "code",
   "execution_count": 6,
   "metadata": {},
   "outputs": [
    {
     "name": "stdout",
     "output_type": "stream",
     "text": [
      "1002 ('birju', 25000)\n"
     ]
    }
   ],
   "source": [
    "n=int(input('enter employee id'))\n",
    "dic={1001:('aman',20000),1002:('birju',25000),1003:('daena',30000)}\n",
    "details=dic[n]\n",
    "print(n,details)"
   ]
  },
  {
   "cell_type": "code",
   "execution_count": 9,
   "metadata": {},
   "outputs": [
    {
     "name": "stdout",
     "output_type": "stream",
     "text": [
      "{101: 'aryan', 102: 'akash', 103: 'daksh', 104: 'tanish'}\n",
      "final: {102: 'akash', 103: 'daksh', 104: 'tanish', 105: 'aryan'}\n"
     ]
    }
   ],
   "source": [
    "dic={101:'aryan',102:'akash',103:'daksh',104:'tanish'}\n",
    "print(dic)\n",
    "dic[105]=dic.pop(101)\n",
    "print('final:', dic)"
   ]
  },
  {
   "cell_type": "code",
   "execution_count": 38,
   "metadata": {},
   "outputs": [
    {
     "name": "stdout",
     "output_type": "stream",
     "text": [
      "key not present\n",
      "key exists in dictionary\n"
     ]
    }
   ],
   "source": [
    "dic={1:'a',2:'b',4:'d'}\n",
    "\n",
    "def check(dic,key):\n",
    "    if key in dic:\n",
    "        print('key exists in dictionary')\n",
    "    else:\n",
    "        print('key not present')\n",
    "\n",
    "check(dic,3)\n",
    "check(dic,2)"
   ]
  },
  {
   "cell_type": "code",
   "execution_count": 41,
   "metadata": {},
   "outputs": [
    {
     "name": "stdout",
     "output_type": "stream",
     "text": [
      "5 [{1, 5}, {2, 10}, {3, 15}, {4, 20}, {25, 5}]\n"
     ]
    }
   ],
   "source": [
    "n=int(input())\n",
    "ans=[{i,i*5} for i in range(1,n+1)]\n",
    "print(n,ans)"
   ]
  },
  {
   "cell_type": "code",
   "execution_count": 42,
   "metadata": {},
   "outputs": [
    {
     "name": "stdout",
     "output_type": "stream",
     "text": [
      "{'bill': {1: 82, 2: 84, 3: 86}, 'steve': {1: 81, 2: 82, 3: 89}, 'jeff': {1: 84, 2: 85, 3: 88}}\n"
     ]
    }
   ],
   "source": [
    "def nest_dict(l1,l2,l3):\n",
    " return {'bill': l1,'steve': l2,'jeff': l3}\n",
    "\n",
    "bill = {1 : 82, 2 : 84, 3 : 86}\n",
    "steve = {1 : 81, 2 : 82, 3 : 89}\n",
    "jeff = {1 : 84, 2 : 85, 3 : 88}\n",
    "nested_dict = nest_dict(bill, steve, jeff)\n",
    "print(nested_dict)\n"
   ]
  },
  {
   "cell_type": "code",
   "execution_count": 44,
   "metadata": {},
   "outputs": [
    {
     "name": "stdout",
     "output_type": "stream",
     "text": [
      "Original Dictionary:{'a': 10, 'b': 20, 'c': 10, 'd': 30, 'e': 20}\n",
      "Dictionary after duplicates removed: {'a': 10, 'b': 20, 'c': 10, 'd': 30, 'e': 20}\n"
     ]
    }
   ],
   "source": [
    "def remove_dup_dict(input_dict):\n",
    "    unique_dict = {}\n",
    "    ckecked=[]\n",
    "    for key, value in input_dict.items():\n",
    "        if value not in ckecked:\n",
    "            unique_dict[key] = value\n",
    "    ckecked.append(value)\n",
    "    return unique_dict\n",
    " \n",
    " \n",
    "input_dict = {'a': 10,'b': 20,'c': 10,'d': 30,'e': 20}\n",
    "print(f\"Original Dictionary:{input_dict}\")\n",
    "result = remove_dup_dict(input_dict)\n",
    "print(\"Dictionary after duplicates removed:\", result)\n"
   ]
  },
  {
   "cell_type": "code",
   "execution_count": 46,
   "metadata": {},
   "outputs": [
    {
     "name": "stdout",
     "output_type": "stream",
     "text": [
      "{'this': 1, 'is': 1, 'how': 2, 'rain': 1, 'drip': 2, 'downs': 1}\n"
     ]
    }
   ],
   "source": [
    "def count_occ(text):\n",
    "    text = text.lower()\n",
    "    words = text.split()\n",
    "    word_count = {}\n",
    "    for word in words:\n",
    "        if word in word_count:\n",
    "            word_count[word] += 1\n",
    "        else:\n",
    "            word_count[word] = 1\n",
    "    return word_count\n",
    "\n",
    "\n",
    "text = input(\"Enter a line of text: \")\n",
    "word_counts = count_occ(text)\n",
    "print(word_counts)"
   ]
  }
 ],
 "metadata": {
  "kernelspec": {
   "display_name": "Python 3",
   "language": "python",
   "name": "python3"
  },
  "language_info": {
   "codemirror_mode": {
    "name": "ipython",
    "version": 3
   },
   "file_extension": ".py",
   "mimetype": "text/x-python",
   "name": "python",
   "nbconvert_exporter": "python",
   "pygments_lexer": "ipython3",
   "version": "3.11.9"
  }
 },
 "nbformat": 4,
 "nbformat_minor": 2
}
