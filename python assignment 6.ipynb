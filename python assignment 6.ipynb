{
 "cells": [
  {
   "cell_type": "code",
   "execution_count": 3,
   "metadata": {},
   "outputs": [
    {
     "name": "stdout",
     "output_type": "stream",
     "text": [
      "12 , 2\n",
      "area= 24\n"
     ]
    }
   ],
   "source": [
    "def area_rectangle(length, breadth):\n",
    "    return length*breadth\n",
    "\n",
    "\n",
    "length=int(input(\"enter length\"))\n",
    "breadth=int(input(\"enter breadth\"))\n",
    "print(length,\",\",breadth)\n",
    "print(\"area=\",area_rectangle(length,breadth))"
   ]
  },
  {
   "cell_type": "code",
   "execution_count": 2,
   "metadata": {},
   "outputs": [
    {
     "name": "stdout",
     "output_type": "stream",
     "text": [
      "[5, 3, 2, 7, 9]\n",
      "2\n"
     ]
    }
   ],
   "source": [
    "def smallest(l):\n",
    "    m = l[0]\n",
    "    for i in l[1:]:\n",
    "        if(m>i):\n",
    "            m=i\n",
    "\n",
    "    return m\n",
    "\n",
    "\n",
    "a =[]\n",
    "n = int(input(\"Enter the size of list\"))\n",
    "for i in range(0,n):\n",
    "    b = int(input(\"Enter the elements\"))\n",
    "    a.append(b)\n",
    "a1=smallest(a)\n",
    "print(a)\n",
    "print(a1)"
   ]
  },
  {
   "cell_type": "code",
   "execution_count": 6,
   "metadata": {},
   "outputs": [
    {
     "name": "stdout",
     "output_type": "stream",
     "text": [
      "gcd of numbers 12 32 is 4\n"
     ]
    }
   ],
   "source": [
    "def gcd(a,b):\n",
    "    z=[]\n",
    "    x=[]\n",
    "    product=1\n",
    "    for i in range(1,a+1):\n",
    "        if a%i==0:\n",
    "            z.append(i)\n",
    "    for i in range(1,b+1):\n",
    "        if b%i==0:\n",
    "            x.append(i)\n",
    "    if len(z)>=len(x):\n",
    "        for i in x[::-1]:\n",
    "            if i in z:\n",
    "                product=product*i\n",
    "                break\n",
    "    else:\n",
    "        for i in z[::-1]:\n",
    "            if i in x:\n",
    "                product=product*i\n",
    "                break\n",
    "    return product\n",
    "a=int(input())\n",
    "b=int(input())\n",
    "print('gcd of numbers',a,b,'is',gcd(a,b))\n"
   ]
  },
  {
   "cell_type": "code",
   "execution_count": 14,
   "metadata": {},
   "outputs": [
    {
     "name": "stdout",
     "output_type": "stream",
     "text": [
      "3 to the power 4 is 81\n"
     ]
    }
   ],
   "source": [
    "def expo(a,b):\n",
    "    return a**b\n",
    "a=int(input())\n",
    "b=int(input())\n",
    "print(a,'to the power',b, 'is',expo(a,b))"
   ]
  },
  {
   "cell_type": "code",
   "execution_count": 1,
   "metadata": {},
   "outputs": [
    {
     "name": "stdout",
     "output_type": "stream",
     "text": [
      "the prime numbers till 30 are\n",
      "2\n",
      "3\n",
      "5\n",
      "7\n",
      "11\n",
      "13\n",
      "17\n",
      "19\n",
      "23\n",
      "29\n"
     ]
    }
   ],
   "source": [
    "def prime(n):\n",
    "    z=[]\n",
    "    for x in range(1,n+1):\n",
    "        if n%x==0:\n",
    "            z.append(x)\n",
    "    if len(z)==2:\n",
    "        return n \n",
    "\n",
    "stop_num=int(input())\n",
    "print('the prime numbers till',stop_num,'are')\n",
    "for i in range(1,stop_num):\n",
    "    if prime(i)!=None:\n",
    "        print(prime(i))"
   ]
  },
  {
   "cell_type": "code",
   "execution_count": 3,
   "metadata": {},
   "outputs": [
    {
     "name": "stdout",
     "output_type": "stream",
     "text": [
      "this Is My StrInG AABBccdd\n",
      "number of characters= 26\n",
      "number of vowels= 5\n",
      "number of consonants= 17\n"
     ]
    }
   ],
   "source": [
    "vowel=['a','e','i','o','u','A','E','I','O','U']\n",
    "def num_c(s):\n",
    "    char=0\n",
    "    for i in s:\n",
    "        char+=1\n",
    "    return char \n",
    "\n",
    "def num_v(s):\n",
    "    vow=0\n",
    "    for i in s:\n",
    "        if i in vowel:\n",
    "            vow+=1\n",
    "    return vow \n",
    "\n",
    "def num_cons(s):\n",
    "    cons=0\n",
    "    for i in s:\n",
    "        if i not in vowel:\n",
    "            if i!=\" \":\n",
    "                cons+=1\n",
    "    return cons\n",
    "\n",
    "string1=input()\n",
    "print(string1)\n",
    "print('number of characters=',num_c(string1))\n",
    "print('number of vowels=',num_v(string1))\n",
    "print('number of consonants=',num_cons(string1))"
   ]
  },
  {
   "cell_type": "code",
   "execution_count": 7,
   "metadata": {},
   "outputs": [
    {
     "name": "stdout",
     "output_type": "stream",
     "text": [
      "original list= [1, 2, 3]\n",
      "after operations= [1, 2, 3, 2, 4, 6]\n",
      "2061637292160\n",
      "2061637292160\n"
     ]
    }
   ],
   "source": [
    "#qs9\n",
    "def twice(l):\n",
    "    t=[2*i for i in l]\n",
    "    l.extend(t)\n",
    "    return l\n",
    "\n",
    "\n",
    "a=[]\n",
    "n=int(input(\"size of list\"))\n",
    "for i in range(n):\n",
    "    b=int(input(\"enter elemets\"))\n",
    "    a.append(b)\n",
    "print('original list=',a )\n",
    "print('after operations=',twice(a))\n",
    "print(id(a))\n",
    "print(id(twice(a)))"
   ]
  },
  {
   "cell_type": "code",
   "execution_count": 14,
   "metadata": {},
   "outputs": [
    {
     "ename": "UnboundLocalError",
     "evalue": "cannot access local variable 'sum' where it is not associated with a value",
     "output_type": "error",
     "traceback": [
      "\u001b[1;31m---------------------------------------------------------------------------\u001b[0m",
      "\u001b[1;31mUnboundLocalError\u001b[0m                         Traceback (most recent call last)",
      "Cell \u001b[1;32mIn[14], line 10\u001b[0m\n\u001b[0;32m      7\u001b[0m     \u001b[38;5;28mprint\u001b[39m(\u001b[38;5;28msum\u001b[39m)\n\u001b[0;32m      8\u001b[0m     sumtill()\n\u001b[1;32m---> 10\u001b[0m \u001b[38;5;28mprint\u001b[39m(n,\u001b[43msumtill\u001b[49m\u001b[43m(\u001b[49m\u001b[43mn\u001b[49m\u001b[43m)\u001b[49m)\n",
      "Cell \u001b[1;32mIn[14], line 6\u001b[0m, in \u001b[0;36msumtill\u001b[1;34m(n)\u001b[0m\n\u001b[0;32m      4\u001b[0m \u001b[38;5;28;01mdef\u001b[39;00m \u001b[38;5;21msumtill\u001b[39m(n):\n\u001b[0;32m      5\u001b[0m     \u001b[38;5;28;01mfor\u001b[39;00m i \u001b[38;5;129;01min\u001b[39;00m \u001b[38;5;28mrange\u001b[39m(\u001b[38;5;241m1\u001b[39m,n\u001b[38;5;241m+\u001b[39m\u001b[38;5;241m1\u001b[39m):\n\u001b[1;32m----> 6\u001b[0m         \u001b[38;5;28;43msum\u001b[39;49m\u001b[38;5;241m+\u001b[39m\u001b[38;5;241m=\u001b[39mi\n\u001b[0;32m      7\u001b[0m     \u001b[38;5;28mprint\u001b[39m(\u001b[38;5;28msum\u001b[39m)\n\u001b[0;32m      8\u001b[0m     sumtill()\n",
      "\u001b[1;31mUnboundLocalError\u001b[0m: cannot access local variable 'sum' where it is not associated with a value"
     ]
    }
   ],
   "source": [
    "#qs8\n",
    "sum=0\n",
    "n=int(input())\n",
    "def sumtill(n):\n",
    "    for i in range(1,n+1):\n",
    "        sum+=i\n",
    "    print(sum)\n",
    "    sumtill()\n",
    "\n",
    "print(n,sumtill(n))\n",
    "\n"
   ]
  },
  {
   "cell_type": "code",
   "execution_count": null,
   "metadata": {},
   "outputs": [],
   "source": []
  }
 ],
 "metadata": {
  "kernelspec": {
   "display_name": "Python 3",
   "language": "python",
   "name": "python3"
  },
  "language_info": {
   "codemirror_mode": {
    "name": "ipython",
    "version": 3
   },
   "file_extension": ".py",
   "mimetype": "text/x-python",
   "name": "python",
   "nbconvert_exporter": "python",
   "pygments_lexer": "ipython3",
   "version": "3.11.9"
  }
 },
 "nbformat": 4,
 "nbformat_minor": 2
}
